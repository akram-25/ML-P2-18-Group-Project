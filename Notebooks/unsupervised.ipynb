{
 "cells": [
  {
   "cell_type": "markdown",
   "metadata": {},
   "source": [
    "# <code style=\"background:#6c89cc; color:black\">Load the Libraries</code>"
   ]
  },
  {
   "cell_type": "code",
   "execution_count": 91,
   "metadata": {},
   "outputs": [],
   "source": [
    "# Load libraries\n",
    "import pandas as pd\n",
    "from pandas.plotting import scatter_matrix\n",
    "import matplotlib.pyplot as plt\n",
    "from sklearn import model_selection\n",
    "from sklearn.metrics import classification_report\n",
    "from sklearn.metrics import confusion_matrix\n",
    "from sklearn.metrics import accuracy_score\n",
    "from sklearn.linear_model import LogisticRegression\n",
    "from sklearn.svm import SVC\n",
    "from sklearn.model_selection import train_test_split\n",
    "from sklearn.metrics import mean_absolute_error\n",
    "from sklearn import ensemble\n",
    "from sklearn.model_selection import GridSearchCV\n",
    "# from flask import Flask, request, render_template\n",
    "import joblib\n",
    "\n",
    "from sklearn.cluster import KMeans, DBSCAN, AgglomerativeClustering\n",
    "from sklearn.metrics import silhouette_score\n",
    "from sklearn.preprocessing import StandardScaler\n",
    "\n",
    "from sklearn.cluster import KMeans, DBSCAN\n",
    "from sklearn.datasets import make_blobs, make_moons\n",
    "from sklearn.preprocessing import StandardScaler\n",
    "from sklearn.model_selection import train_test_split\n",
    "\n",
    "from sklearn.tree import DecisionTreeClassifier\n",
    "from sklearn.neighbors import KNeighborsClassifier\n",
    "from sklearn.discriminant_analysis import LinearDiscriminantAnalysis\n",
    "from sklearn.naive_bayes import GaussianNB\n",
    "\n",
    "from sklearn import preprocessing\n",
    "\n",
    "import numpy as np\n",
    "import seaborn as sns\n",
    "\n",
    "from matplotlib.pylab import seed\n",
    "\n",
    "from sklearn.discriminant_analysis import StandardScaler\n",
    "from sklearn.impute import SimpleImputer\n",
    "\n"
   ]
  },
  {
   "cell_type": "markdown",
   "metadata": {},
   "source": [
    "# <code style=\"background:#6c89cc; color:black\">Load the Dataset</code>"
   ]
  },
  {
   "cell_type": "code",
   "execution_count": 92,
   "metadata": {},
   "outputs": [],
   "source": [
    "df = pd.read_csv(\"../Datasets/stroke_data.csv\")"
   ]
  },
  {
   "cell_type": "code",
   "execution_count": 93,
   "metadata": {},
   "outputs": [
    {
     "data": {
      "text/plain": [
       "(40910, 11)"
      ]
     },
     "execution_count": 93,
     "metadata": {},
     "output_type": "execute_result"
    }
   ],
   "source": [
    "df.shape"
   ]
  },
  {
   "cell_type": "markdown",
   "metadata": {},
   "source": [
    "# <code style=\"background:#6c89cc; color:black\">Feature Engineering</code>"
   ]
  },
  {
   "cell_type": "code",
   "execution_count": 94,
   "metadata": {},
   "outputs": [],
   "source": [
    "df = df.dropna()"
   ]
  },
  {
   "cell_type": "code",
   "execution_count": 95,
   "metadata": {},
   "outputs": [
    {
     "data": {
      "text/plain": [
       "sex                  0\n",
       "age                  0\n",
       "hypertension         0\n",
       "heart_disease        0\n",
       "ever_married         0\n",
       "work_type            0\n",
       "Residence_type       0\n",
       "avg_glucose_level    0\n",
       "bmi                  0\n",
       "smoking_status       0\n",
       "stroke               0\n",
       "dtype: int64"
      ]
     },
     "execution_count": 95,
     "metadata": {},
     "output_type": "execute_result"
    }
   ],
   "source": [
    "#Assessing for missing values\n",
    "df.isnull().sum()"
   ]
  },
  {
   "cell_type": "markdown",
   "metadata": {},
   "source": [
    "# <code style=\"background:#6c89cc; color:black\">Creating Models</code>"
   ]
  },
  {
   "cell_type": "code",
   "execution_count": 96,
   "metadata": {},
   "outputs": [],
   "source": [
    "df = df.drop(['stroke'], axis=1)"
   ]
  },
  {
   "cell_type": "code",
   "execution_count": 97,
   "metadata": {},
   "outputs": [
    {
     "data": {
      "text/plain": [
       "sex                  0\n",
       "age                  0\n",
       "hypertension         0\n",
       "heart_disease        0\n",
       "ever_married         0\n",
       "work_type            0\n",
       "Residence_type       0\n",
       "avg_glucose_level    0\n",
       "bmi                  0\n",
       "smoking_status       0\n",
       "dtype: int64"
      ]
     },
     "execution_count": 97,
     "metadata": {},
     "output_type": "execute_result"
    }
   ],
   "source": [
    "#Assessing for missing values\n",
    "df.isnull().sum()"
   ]
  },
  {
   "cell_type": "code",
   "execution_count": 98,
   "metadata": {},
   "outputs": [],
   "source": [
    "X = df[['sex', 'age', 'hypertension', 'heart_disease', 'ever_married',\n",
    "       'work_type', 'Residence_type', 'avg_glucose_level', 'bmi',\n",
    "       'smoking_status']].values"
   ]
  },
  {
   "cell_type": "code",
   "execution_count": 100,
   "metadata": {},
   "outputs": [],
   "source": [
    "def k_mean_distance(data, centroids, cluster_labels):\n",
    "  full_distances = []\n",
    "  for i_centroid in range(0, max(cluster_labels) + 1):\n",
    "    cx = centroids[i_centroid, 0]\n",
    "    cy = centroids[i_centroid, 1]\n",
    "    distances = [np.sqrt((x-cx)**2+(y-cy)**2) for (x, y) in data[cluster_labels == i_centroid]]\n",
    "    full_distances.extend(distances)\n",
    "  return np.mean(full_distances)"
   ]
  },
  {
   "cell_type": "code",
   "execution_count": 101,
   "metadata": {},
   "outputs": [],
   "source": [
    "# TODO: Generate a synthetic dataset with five clusters\n",
    "X, y = make_blobs(n_samples=500, centers=5, cluster_std=0.8, n_features=2, random_state=42)  # <-- Fill in the correct values"
   ]
  },
  {
   "cell_type": "code",
   "execution_count": null,
   "metadata": {},
   "outputs": [],
   "source": [
    "# TODO: Fit the StandardScaler to the dataset\n",
    "scaler = StandardScaler().fit(X)  # <-- Fill in the correct method and dataset\n",
    "\n",
    "# TODO: Transform the dataset using the fitted scaler\n",
    "X_std = scaler.transform(X)  # <-- Fill in the correct method and dataset"
   ]
  },
  {
   "cell_type": "code",
   "execution_count": 105,
   "metadata": {},
   "outputs": [
    {
     "data": {
      "image/png": "[encoded data removed]",
      "text/plain": [
       "<Figure size 640x480 with 1 Axes>"
      ]
     },
     "metadata": {},
     "output_type": "display_data"
    }
   ],
   "source": [
    "# TODO: Split the dataset into training and validation sets\n",
    "X_train, X_valid, _, _ = train_test_split(X, y, test_size=0.2, random_state=42)  # <-- Fill in the correct values\n",
    "\n",
    "# Initialize lists to store loss values\n",
    "loss_train, loss_valid = [], []\n",
    "max_cluster = 20  # Maximum number of clusters to test\n",
    "\n",
    "# TODO: Iterate over different values of k (number of clusters)\n",
    "for k in np.arange(max_cluster) + 1:\n",
    "    # TODO: Train K-Means with k clusters\n",
    "    kmeans = KMeans(n_clusters=k, random_state=42, n_init=\"auto\").fit(X_train)  # <-- Fill in the correct values\n",
    "\n",
    "    # Retrieve cluster centroids and predict cluster labels\n",
    "    centroids = kmeans.cluster_centers_\n",
    "    cluster_labels = kmeans.predict(X_train)\n",
    "\n",
    "    # TODO: Compute and store training loss\n",
    "    loss_train.append(k_mean_distance(X_train, centroids, cluster_labels))  # <-- Fill in the correct function parameters\n",
    "\n",
    "    # TODO: Compute and store validation loss\n",
    "    cluster_labels = kmeans.predict(X_valid)\n",
    "    loss_valid.append(k_mean_distance(X_valid, centroids, cluster_labels))  # <-- Fill in the correct function parameters\n",
    "\n",
    "# TODO: Plot the loss curves for training and validation\n",
    "plt.plot(np.arange(max_cluster) + 1, loss_train, label='Train')\n",
    "plt.plot(np.arange(max_cluster) + 1, loss_valid, label='Validation')\n",
    "\n",
    "# TODO: Label the axes\n",
    "plt.xlabel('Number of clusters (k)')  # <-- Fill in the correct label\n",
    "plt.ylabel('Mean Distance')\n",
    "\n",
    "# TODO: Add a legend\n",
    "plt.legend(loc='upper right')\n",
    "\n",
    "# Display the plot\n",
    "plt.show()"
   ]
  },
  {
   "cell_type": "code",
   "execution_count": 109,
   "metadata": {},
   "outputs": [
    {
     "data": {
      "image/png": "[encoded data removed]",
      "text/plain": [
       "<Figure size 350x350 with 1 Axes>"
      ]
     },
     "metadata": {},
     "output_type": "display_data"
    }
   ],
   "source": [
    "# TODO: Train K-Means with 10 clusters\n",
    "kmeans = KMeans(n_clusters=10, random_state=42, n_init=\"auto\").fit(X_std)  # <-- Fill in the correct values\n",
    "\n",
    "# TODO: Retrieve the cluster centroids\n",
    "centroids = kmeans.cluster_centers_  # <-- Fill in the correct attribute\n",
    "\n",
    "# TODO: Get the predicted cluster labels\n",
    "y_pred = kmeans.labels_  # <-- Fill in the correct attribute\n",
    "\n",
    "# TODO: Create a figure and axis handle\n",
    "fig = plt.figure(figsize=(3.5, 3.5))\n",
    "ax = plt.gca()\n",
    "\n",
    "# TODO: Plot the clustered data points\n",
    "plt.scatter(X_std[:, 0], X_std[:, 1], c=y_pred, s=40)  # <-- Fill in the correct color mapping\n",
    "\n",
    "# TODO: Plot the cluster center locations\n",
    "plt.scatter(centroids[:, 0], centroids[:, 1], c=range(10), s=200, marker=\"x\")  # <-- Fill in the correct values\n",
    "\n",
    "# TODO: Ensure equal aspect ratio\n",
    "ax.set_aspect('equal')\n",
    "\n",
    "# Display the plot\n",
    "plt.show()"
   ]
  },
  {
   "cell_type": "code",
   "execution_count": 107,
   "metadata": {},
   "outputs": [
    {
     "name": "stdout",
     "output_type": "stream",
     "text": [
      "Estimated number of clusters: 358\n",
      "Estimated number of noise points: 3778\n"
     ]
    }
   ],
   "source": [
    "# TODO: Apply DBSCAN clustering\n",
    "db = DBSCAN(eps=0.5, min_samples=5).fit(X_std)  # <-- Fill in the correct values\n",
    "\n",
    "# TODO: Retrieve the predicted cluster labels\n",
    "y_pred = db.labels_  # <-- Fill in the correct attribute\n",
    "\n",
    "# TODO: Compute the number of clusters (excluding noise)\n",
    "n_clusters_ = len(set(y_pred)) - (1 if -1 in y_pred else 0)  # <-- Fill in the correct variable\n",
    "\n",
    "# TODO: Compute the number of noise points\n",
    "n_noise_ = list(y_pred).count(-1)  # <-- Fill in the correct variable\n",
    "\n",
    "# TODO: Print the results\n",
    "print(\"Estimated number of clusters: %d\" % n_clusters_)  # <-- Fill in the correct variable\n",
    "print(\"Estimated number of noise points: %d\" % n_noise_)  # <-- Fill in the correct variable"
   ]
  },
  {
   "cell_type": "code",
   "execution_count": 108,
   "metadata": {},
   "outputs": [
    {
     "data": {
      "image/png": "[encoded data removed]",
      "text/plain": [
       "<Figure size 350x350 with 1 Axes>"
      ]
     },
     "metadata": {},
     "output_type": "display_data"
    }
   ],
   "source": [
    "# TODO: Create a figure and grab the axis handle\n",
    "fig = plt.figure(figsize=(3.5, 3.5))\n",
    "ax = plt.gca()\n",
    "\n",
    "# TODO: Plot the dataset with color-coded cluster labels\n",
    "plt.scatter(X_std[:, 0], X_std[:, 1], c=y_pred, s=40)  # <-- Fill in the correct variables\n",
    "\n",
    "# TODO: Display the plot\n",
    "plt.show()"
   ]
  },
  {
   "cell_type": "code",
   "execution_count": null,
   "metadata": {},
   "outputs": [],
   "source": []
  }
 ],
 "metadata": {
  "kernelspec": {
   "display_name": "Python 3",
   "language": "python",
   "name": "python3"
  },
  "language_info": {
   "codemirror_mode": {
    "name": "ipython",
    "version": 3
   },
   "file_extension": ".py",
   "mimetype": "text/x-python",
   "name": "python",
   "nbconvert_exporter": "python",
   "pygments_lexer": "ipython3",
   "version": "3.12.6"
  }
 },
 "nbformat": 4,
 "nbformat_minor": 2
}
